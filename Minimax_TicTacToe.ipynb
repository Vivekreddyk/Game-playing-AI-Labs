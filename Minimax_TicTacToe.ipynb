{
  "nbformat": 4,
  "nbformat_minor": 0,
  "metadata": {
    "colab": {
      "name": "Minimax-TicTacToe.ipynb",
      "version": "0.3.2",
      "provenance": [],
      "collapsed_sections": []
    },
    "kernelspec": {
      "name": "swift",
      "display_name": "Swift"
    }
  },
  "cells": [
    {
      "cell_type": "markdown",
      "metadata": {
        "id": "NmIkozl_2Vk_",
        "colab_type": "text"
      },
      "source": [
        "# Minimax for Tic Tac Toe\n",
        "\n",
        "In this Lab, we will create a perfect player for Tic Tac Toe. Because of the simple nature of the game, there's not much work you need to do to brute-force a perfect player that'll never make a mistake. It can either win or draw - it is guaranteed to never lose."
      ]
    },
    {
      "cell_type": "markdown",
      "metadata": {
        "id": "0R3ZcUUC5GT9",
        "colab_type": "text"
      },
      "source": [
        "Let's start by importing the relevant libraries - in this case, you're only going to import Foundation. Foundation is essentially an \"extension to the Swift Standard Library\" - it includes functionality like advanced String handling, networking, and more."
      ]
    },
    {
      "cell_type": "code",
      "metadata": {
        "id": "kZRlD4utdPuX",
        "colab_type": "code",
        "colab": {}
      },
      "source": [
        "import Foundation"
      ],
      "execution_count": 0,
      "outputs": []
    },
    {
      "cell_type": "markdown",
      "metadata": {
        "id": "vbYmrLUG5hTJ",
        "colab_type": "text"
      },
      "source": [
        "Next, we need to make sure that we have a game to play before we can create the AI. I won't explain this part in very much depth, because this course - again - is on building AI, not games. To begin, create the Tic Tac Toe structure:"
      ]
    },
    {
      "cell_type": "code",
      "metadata": {
        "id": "BZKoQFBE5b4Y",
        "colab_type": "code",
        "colab": {}
      },
      "source": [
        "struct TicTacToe {\n",
        "    var board: [[Int]]\n",
        "}"
      ],
      "execution_count": 0,
      "outputs": []
    },
    {
      "cell_type": "markdown",
      "metadata": {
        "id": "efstm7MM5-_w",
        "colab_type": "text"
      },
      "source": [
        "To begin with, the structure contains nothing but an uninitialized two-dimensional array of integers. This board represents the tic tac toe game in row-major form. For example, the following board:\n",
        "\n",
        "\n",
        "```\n",
        " +-+-+-+\n",
        " |x| |o|\n",
        " +-+-+-+\n",
        " |o|o| |\n",
        " +-+-+-+\n",
        " |x|x|x|\n",
        " +-+-+-+\n",
        "```\n",
        "\n",
        "Is represented programmatically as:\n",
        "\n",
        "```\n",
        "[[ 1,  0, -1],\n",
        " [-1, -1,  0],\n",
        " [ 1,  1,  1]]\n",
        "```\n",
        "\n",
        "One things to note for Python programmers: what you created, a `struct`,  is similar to a `class` - but there's a few differences:\n",
        "\n",
        "1. An initializer for the struct was automatically created with signature `init(board: [[Int]])`\n",
        "1. A class is a reference type, whereas a struct is a value type. This means that, for example, when you pass classes around in Swift or Python code, you're passing a reference to a class. When you pass a struct around, you're passing around copies of that struct.\n",
        "\n",
        "Swift also has an incredible system known as COW🐮 (copy-on-write) (yes, occasionally with the emoji). Essentially, say you write the following code:\n",
        "\n",
        "```\n",
        "struct Point {\n",
        "    var x: Double\n",
        "    var y: Double\n",
        "}\n",
        "\n",
        "func moveUp(location: Point) -> Point {\n",
        "    var p2 = location\n",
        "    p2.y -= 1\n",
        "    return p2\n",
        "}\n",
        "\n",
        "let a = Point(x: 6, y: 9)\n",
        "print(a)\n",
        "print(moveUp(location: a))\n",
        "```\n",
        "\n",
        "Technically, a structure is a value type - therefore, Swift must pass a copy to the function for it to modify, right? Wrong! Swift is actually passing to the function a reference to the structure. However, if the function attempts to modify that reference, only then will Swift create a copy of the struct. It's very intelligent behaviour.\n",
        "\n",
        "Back to Tic Tac Toe - let's extend the Tic Tac Toe structure before to add a custom initializer that can create a 3x3 array of all zeros."
      ]
    },
    {
      "cell_type": "code",
      "metadata": {
        "id": "3t7yM3Dv5-Yv",
        "colab_type": "code",
        "colab": {}
      },
      "source": [
        "extension TicTacToe {\n",
        "    init() {\n",
        "        self.init(board: [[Int]](repeating: [Int](repeating: 0, count: 3), count: 3))\n",
        "    }\n",
        "}"
      ],
      "execution_count": 0,
      "outputs": []
    },
    {
      "cell_type": "markdown",
      "metadata": {
        "id": "O_wXBR-G9MOc",
        "colab_type": "text"
      },
      "source": [
        "Next, let's implement the `isWin(for player: Int) -> Bool` function, which will check if a certain player has won, and return `true` if they have, `false` if they're lost or the game is a draw."
      ]
    },
    {
      "cell_type": "code",
      "metadata": {
        "id": "Gx3EdwA19Bbt",
        "colab_type": "code",
        "colab": {}
      },
      "source": [
        "extension TicTacToe {\n",
        "    func isWin(for player: Int) -> Bool {\n",
        "        let wanting = [player, player, player] // Expecting 3 in a row\n",
        "        for i in board {\n",
        "            if i == wanting {\n",
        "                return true // Row is equal to what was expected\n",
        "            }\n",
        "        }\n",
        "        for col in 0..<3 {\n",
        "            let row = [board[0][col], board[1][col], board[2][col]]\n",
        "            if row == wanting {\n",
        "                return true // Column is equal to what was expected\n",
        "            }\n",
        "        }\n",
        "        let diag1 = [board[0][0], board[1][1], board[2][2]]\n",
        "        if diag1 == wanting {\n",
        "            return true // Left-to-right diagonal is equal to what was expected\n",
        "        }\n",
        "        let diag2 = [board[0][2], board[1][1], board[2][0]]\n",
        "        if diag2 == wanting {\n",
        "            return true // Right-to-left diagonal is equal to what was expected\n",
        "        }\n",
        "        return false // No win yet for this player\n",
        "    }\n",
        "}"
      ],
      "execution_count": 0,
      "outputs": []
    },
    {
      "cell_type": "markdown",
      "metadata": {
        "id": "Of5sl9CV99qC",
        "colab_type": "text"
      },
      "source": [
        "Let's also implement the following simple computed properties for our convenience:\n",
        "\n",
        "1. `legalMoves` - an array of `(x, y)` coordinates that represent tiles on the board that are still empty.\n",
        "1. `hasWinner` - a boolean which is `true` if either player has won, `false` if the game is a draw or is in progress.\n",
        "1. `isOver` - a boolean which is `true` is either player has won or the game is draw, `false` if the game is in progress."
      ]
    },
    {
      "cell_type": "code",
      "metadata": {
        "id": "TeoovlBn981t",
        "colab_type": "code",
        "colab": {}
      },
      "source": [
        "extension TicTacToe {\n",
        "    var legalMoves: [(Int, Int)] {\n",
        "        var legals: [(Int, Int)] = []\n",
        "        for row in 0..<3 {\n",
        "            for col in 0..<3 {\n",
        "                if board[row][col] == 0 {\n",
        "                    legals.append((row, col))\n",
        "                }\n",
        "            }\n",
        "        }\n",
        "        return legals\n",
        "    }\n",
        "    \n",
        "    var hasWinner: Bool {\n",
        "        return isWin(for: 1) || isWin(for: -1)\n",
        "    }\n",
        "    \n",
        "    var isOver: Bool {\n",
        "        return hasWinner || legalMoves.isEmpty\n",
        "    }\n",
        "}"
      ],
      "execution_count": 0,
      "outputs": []
    },
    {
      "cell_type": "markdown",
      "metadata": {
        "id": "VFvAwtPg_d7A",
        "colab_type": "text"
      },
      "source": [
        "Let's also implement a function that enables a player to place their symbol on a tile:"
      ]
    },
    {
      "cell_type": "code",
      "metadata": {
        "id": "rO-738v4_mo9",
        "colab_type": "code",
        "colab": {}
      },
      "source": [
        "extension TicTacToe {\n",
        "    mutating func play(at location: (Int, Int), player: Int) {\n",
        "        assert(board[location.0][location.1] == 0)\n",
        "        board[location.0][location.1] = player\n",
        "    }\n",
        "}"
      ],
      "execution_count": 0,
      "outputs": []
    },
    {
      "cell_type": "markdown",
      "metadata": {
        "id": "n1VBfmYT-voa",
        "colab_type": "text"
      },
      "source": [
        "Now, let's implement a function that can return the \"children\" of a board state. The children are all possible next board states for a certain player's turn."
      ]
    },
    {
      "cell_type": "code",
      "metadata": {
        "id": "uDltbKAI-k_u",
        "colab_type": "code",
        "colab": {}
      },
      "source": [
        "extension TicTacToe {\n",
        "    func children(player: Int) -> [TicTacToe] {\n",
        "        var nextMoves: [TicTacToe] = []\n",
        "        for i in legalMoves {\n",
        "            var copy = TicTacToe(board: board)\n",
        "            copy.play(at: i, player: player)\n",
        "            nextMoves.append(copy)\n",
        "        }\n",
        "        return nextMoves\n",
        "    }\n",
        "}"
      ],
      "execution_count": 0,
      "outputs": []
    },
    {
      "cell_type": "markdown",
      "metadata": {
        "id": "LCTIs7xzAA-L",
        "colab_type": "text"
      },
      "source": [
        "Now, let's implement a simple function for convenience - the `winner` function. This will basically act as a wrapper around the `isWin` function.\n",
        "\n",
        "Essentially, it'll return a positive value if player 1 won, and a negative value if player 2 (represented as -1) won. It'll return 0 if it's a draw or the game is in progress.\n",
        "\n",
        "The way the return value for a win is determined is based off of the `depth` - and this comes from the Minimax algorithm. Essentially, when the Minimax algorithm is looking really deep inside the game tree, and sees a win/loss many moves ahead, it needs to be penalized based off of how deep the game tree is. This makes it so that the minimax also takes into account the \"straightforwardness\" of certain moves.\n",
        "\n",
        "So, by taking a positive 10 value and subtracting the depth, or by taking the depth and subtracting a 10, you get your player 1 and player 2 scores respectively."
      ]
    },
    {
      "cell_type": "code",
      "metadata": {
        "id": "wBVe_hQC_vtj",
        "colab_type": "code",
        "colab": {}
      },
      "source": [
        "extension TicTacToe {\n",
        "    func winner(depth: Int) -> Int {\n",
        "        if isWin(for: 1) {\n",
        "            return 10 - depth\n",
        "        }\n",
        "        if isWin(for: -1) {\n",
        "            return depth - 10\n",
        "        }\n",
        "        return 0\n",
        "    }\n",
        "}"
      ],
      "execution_count": 0,
      "outputs": []
    },
    {
      "cell_type": "markdown",
      "metadata": {
        "id": "UyfkN4PqBTkV",
        "colab_type": "text"
      },
      "source": [
        "Finally, it's time to make things pretty with some pretty-printing functions:"
      ]
    },
    {
      "cell_type": "code",
      "metadata": {
        "id": "Pb_V_rwcBMg8",
        "colab_type": "code",
        "colab": {}
      },
      "source": [
        "extension TicTacToe {\n",
        "    // Turn a number into a character\n",
        "    //  0 = \" \"\n",
        "    // +1 = \"x\"\n",
        "    // -1 = \"o\"\n",
        "    static func character(_ x: Int) -> String {\n",
        "        x == 0 ? \" \" : (x == 1 ? \"x\" : \"o\")\n",
        "    }\n",
        "    \n",
        "    // Print the board\n",
        "    func display() {\n",
        "        var boardTemplate = \"\"\"\n",
        "                               +-+-+-+\n",
        "                               |1|2|3|\n",
        "                               +-+-+-+\n",
        "                               |4|5|6|\n",
        "                               +-+-+-+\n",
        "                               |7|8|9|\n",
        "                               +-+-+-+\n",
        "                            \"\"\"\n",
        "        boardTemplate = boardTemplate.replacingOccurrences(of: \"1\", with: \"\\(TicTacToe.character(board[0][0]))\")\n",
        "        boardTemplate = boardTemplate.replacingOccurrences(of: \"2\", with: \"\\(TicTacToe.character(board[0][1]))\")\n",
        "        boardTemplate = boardTemplate.replacingOccurrences(of: \"3\", with: \"\\(TicTacToe.character(board[0][2]))\")\n",
        "        boardTemplate = boardTemplate.replacingOccurrences(of: \"4\", with: \"\\(TicTacToe.character(board[1][0]))\")\n",
        "        boardTemplate = boardTemplate.replacingOccurrences(of: \"5\", with: \"\\(TicTacToe.character(board[1][1]))\")\n",
        "        boardTemplate = boardTemplate.replacingOccurrences(of: \"6\", with: \"\\(TicTacToe.character(board[1][2]))\")\n",
        "        boardTemplate = boardTemplate.replacingOccurrences(of: \"7\", with: \"\\(TicTacToe.character(board[2][0]))\")\n",
        "        boardTemplate = boardTemplate.replacingOccurrences(of: \"8\", with: \"\\(TicTacToe.character(board[2][2]))\")\n",
        "        boardTemplate = boardTemplate.replacingOccurrences(of: \"9\", with: \"\\(TicTacToe.character(board[2][1]))\")\n",
        "        print(boardTemplate, terminator: \"\\n\\n\")\n",
        "    }\n",
        "}"
      ],
      "execution_count": 0,
      "outputs": []
    },
    {
      "cell_type": "markdown",
      "metadata": {
        "id": "tn-1OMk4BjI0",
        "colab_type": "text"
      },
      "source": [
        "Now, all that's left is the AI. Minimax can be implemented as a very simple recursive function. This is the function signature:\n",
        "\n",
        "`minimax(state: TicTacToe, player: Int, depth: Int = 0) -> Double`\n",
        "\n",
        "This function will take the state that is to be scored, the player that needs to play imminently, and the current depth in the tree of the node that it's processing. Initially, this is, of course, zero.\n",
        "\n",
        "The function has very simple logic:\n",
        "\n",
        "1. Does this state represent a \"game over\"? If so, return the result from `state.winner(depth: Int)`, passing it the depth passed into the `minimax` function. The return type is a double-precision floating-point number.\n",
        "1. For each child of this state, pass it back into the `minimax` function assuming the next player needs to play and with an incremented depth value.\n",
        "1. If the current player is 1, return the maximum value that was returned from `minimax`.\n",
        "1. If the current player is -1, return the minimum value that was returned from `minimax`."
      ]
    },
    {
      "cell_type": "code",
      "metadata": {
        "id": "ZKj6o7fOBa0c",
        "colab_type": "code",
        "colab": {}
      },
      "source": [
        "func minimax(state: TicTacToe, player: Int, depth: Int = 0) -> Double {\n",
        "    if state.isOver {\n",
        "        return Double(state.winner(depth: depth))\n",
        "    }\n",
        "    let children = state.children(player: player)\n",
        "                        .map({ minimax(state: $0, player: -player, depth: depth + 1) })\n",
        "    if player == 1 {\n",
        "        return children.max()!\n",
        "    } else {\n",
        "        return children.min()!\n",
        "    }\n",
        "}"
      ],
      "execution_count": 0,
      "outputs": []
    },
    {
      "cell_type": "markdown",
      "metadata": {
        "id": "NYw1nZzIDjb5",
        "colab_type": "text"
      },
      "source": [
        "Now that you have a mechanism to return the score for any board, you need to have a way to make a decision as to where to move for any given board state. To do this, simply iterate along every child of a given board state, get the score from Minimax and multiply it by the player, and return the move with the largest score.\n",
        "\n",
        "But wait - why do we need to multiply the score from minimax by the player? It's for a simple reason - if player 1 has to play, minimax will return a positive value for moves that are in its favor. If player -1 has to player, minimax will return a negative value for moves that are in its favor. However, to make sure that the maximum score corresponds to the best move for the player, simply multiply the score by the player (either `1` or `-1`)."
      ]
    },
    {
      "cell_type": "code",
      "metadata": {
        "id": "t5wmOTzvDZav",
        "colab_type": "code",
        "colab": {}
      },
      "source": [
        "func decision(for state: TicTacToe, player: Int) -> (Int, Int) {\n",
        "    let moves = state.legalMoves\n",
        "    let children = state.children(player: player)\n",
        "    let scores = children.map({ Double(player) * minimax(state: $0, player: -player) })\n",
        "    return moves[scores.firstIndex(where: { $0 == scores.max()! })!]\n",
        "}"
      ],
      "execution_count": 0,
      "outputs": []
    },
    {
      "cell_type": "markdown",
      "metadata": {
        "id": "2nNngGBXEhUV",
        "colab_type": "text"
      },
      "source": [
        "And... you're good to go. You've implemented a brute-force, tree-based solution to solving the game of Tic Tac Toe. Good job! Now, let's have it play against itself:"
      ]
    },
    {
      "cell_type": "code",
      "metadata": {
        "id": "SlqrDdNfEc3o",
        "colab_type": "code",
        "colab": {
          "base_uri": "https://localhost:8080/",
          "height": 1000
        },
        "outputId": "a2c849bd-16b0-48f0-a39a-a8a6d916e7f3"
      },
      "source": [
        "var state = TicTacToe()\n",
        "var player = 1\n",
        "state.display()\n",
        "while !state.isOver {\n",
        "    state.play(at: decision(for: state, player: player), player: player)\n",
        "    player = -player\n",
        "    state.display()\n",
        "}"
      ],
      "execution_count": 18,
      "outputs": [
        {
          "output_type": "stream",
          "text": [
            "   +-+-+-+\r\n",
            "   | | | |\r\n",
            "   +-+-+-+\r\n",
            "   | | | |\r\n",
            "   +-+-+-+\r\n",
            "   | | | |\r\n",
            "   +-+-+-+\r\n",
            "\n",
            "   +-+-+-+\n",
            "   |x| | |\n",
            "   +-+-+-+\n",
            "   | | | |\n",
            "   +-+-+-+\n",
            "   | | | |\n",
            "   +-+-+-+\n",
            "\n",
            "   +-+-+-+\n",
            "   |x| | |\n",
            "   +-+-+-+\n",
            "   | |o| |\n",
            "   +-+-+-+\n",
            "   | | | |\n",
            "   +-+-+-+\n",
            "\n",
            "   +-+-+-+\n",
            "   |x|x| |\n",
            "   +-+-+-+\n",
            "   | |o| |\n",
            "   +-+-+-+\n",
            "   | | | |\n",
            "   +-+-+-+\n",
            "\n",
            "   +-+-+-+\n",
            "   |x|x|o|\n",
            "   +-+-+-+\n",
            "   | |o| |\n",
            "   +-+-+-+\n",
            "   | | | |\n",
            "   +-+-+-+\n",
            "\n",
            "   +-+-+-+\n",
            "   |x|x|o|\n",
            "   +-+-+-+\n",
            "   | |o| |\n",
            "   +-+-+-+\n",
            "   |x| | |\n",
            "   +-+-+-+\n",
            "\n",
            "   +-+-+-+\n",
            "   |x|x|o|\n",
            "   +-+-+-+\n",
            "   |o|o| |\n",
            "   +-+-+-+\n",
            "   |x| | |\n",
            "   +-+-+-+\n",
            "\n",
            "   +-+-+-+\n",
            "   |x|x|o|\n",
            "   +-+-+-+\n",
            "   |o|o|x|\n",
            "   +-+-+-+\n",
            "   |x| | |\n",
            "   +-+-+-+\n",
            "\n",
            "   +-+-+-+\n",
            "   |x|x|o|\n",
            "   +-+-+-+\n",
            "   |o|o|x|\n",
            "   +-+-+-+\n",
            "   |x| |o|\n",
            "   +-+-+-+\n",
            "\n",
            "   +-+-+-+\n",
            "   |x|x|o|\n",
            "   +-+-+-+\n",
            "   |o|o|x|\n",
            "   +-+-+-+\n",
            "   |x|x|o|\n",
            "   +-+-+-+\n",
            "\n"
          ],
          "name": "stdout"
        }
      ]
    },
    {
      "cell_type": "markdown",
      "metadata": {
        "id": "YBwZGF7-E-6G",
        "colab_type": "text"
      },
      "source": [
        "Remember, this is a perfect & deterministic player. It'll always play the same move for a certain game state. Meaning that, if you have it play against itself, it'll always result in the same game!"
      ]
    }
  ]
}